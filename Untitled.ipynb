{
 "cells": [
  {
   "cell_type": "markdown",
   "id": "31b39923",
   "metadata": {},
   "source": [
    "I have chosen to synthesise weather conditions.\n",
    "\n",
    "The goal of this project is to synthesise weather conditions, for use in future simulations related to aerodynamic perforance. This data could be used to randomise the conditions, when testing a flight controller for a drone or a hobby aicraft.\n",
    "\n",
    "The atmospheric conditions determie the level of lift and drag being generated. This means the weather conditions determine the length of runway required to take off in an aircraft or the propeller speed required on a drone to hover."
   ]
  },
  {
   "cell_type": "markdown",
   "id": "132016a0",
   "metadata": {},
   "source": [
    "The chosen variables to examine are:\n",
    "- Absolute Temperature, in Kelvin. This will be non-negative real number with two decimal places.\n",
    "- Absolute Pressure, in Pascal. This will be non-negative real number with two decimal places.\n",
    "- Wind, in meters per second and direction in degrees from north. This will be non-negative real number with two decimal places. The data will be given in a Polar coordinate system with magnitude as speed and angle being the direction from north.\n",
    "- Percipitation, in millimeters."
   ]
  },
  {
   "cell_type": "markdown",
   "id": "f2a7de43",
   "metadata": {},
   "source": [
    "For examining the relationships between the data I have obtained weather data from the Met Éireann Athenry weather station. This data set contains data on the weather conditions, recorded every hour for the duration between Feb-2010 up to Nov-2022. This data has been made publicly available by Met Éireann on the condition that the following source accreditations is given:\n",
    "\n",
    "- Copyright Met Éireann\n",
    "- Source www.met.ie\n",
    "- This data is published under a Creative Commons Attribution 4.0 International (CC BY 4.0). https://creativecommons.org/licenses/by/4.0/\n",
    "- Met Éireann does not accept any liability whatsoever for any error or omission in the data, their availability, or for any loss or damage arising from their use.\n",
    "- This material has been modified from the original"
   ]
  },
  {
   "cell_type": "markdown",
   "id": "b5dd9960",
   "metadata": {},
   "source": [
    "The Data from Met Éireann is given in a format that may be stardard for meteorological study. But this format will need to be changed to an engineering ISO standard for aerodynamic study."
   ]
  },
  {
   "cell_type": "code",
   "execution_count": 32,
   "id": "8e49ac56",
   "metadata": {},
   "outputs": [
    {
     "name": "stdout",
     "output_type": "stream",
     "text": [
      "ID\t        ELEMENT                                                        Unit       \n",
      "\n",
      "\n",
      "\n",
      "rain\t\tPrecipitation Amount\t\t\t\t\t\tmm\n",
      "\n",
      "temp       \tAir Temperature \t                                        Â°C\n",
      "\n",
      "wetb\t\tWet Bulb Air Temperature\t\t\t                Â°C\n",
      "\n",
      "dewpt\t\tDew Point Air Temperature\t\t\t\t\tÂ°C\t\t                 \n",
      "\n",
      "vappr\t\tVapour Pressure\t\t\t\t\t\t\thpa\n",
      "\n",
      "rhum\t\tRelative Humidity\t\t\t\t\t\t%\n",
      "\n",
      "msl\t\tMean Sea Level Pressure\t\t\t\t\t\thPa\n",
      "\n",
      "wdsp\t\tMean Hourly Wind Speed\t\t\t\t\t\tkt\n",
      "\n",
      "wddir\t\tPredominant Hourly wind Direction\t\t\t\tdeg\n",
      "\n",
      "ww\t\tSynop Code Present Weather - decode below\n",
      "\n",
      "w\t\tSynop Code Past Weather - decode below\n",
      "\n",
      "sun\t\tSunshine duration\t\t\t\t\t\thours\n",
      "\n",
      "vis\t\tVisibility\t\t\t\t\t\t\tm\n",
      "\n",
      "clht\t\tCloud Ceiling Height - if none value is 999\t\t\t100s feet\n",
      "\n",
      "clamt\t\tCloud Amount\t\t\t\t\t\t\tokta\n",
      "\n"
     ]
    }
   ],
   "source": [
    "# Loading info file\n",
    "with open(\"Data\\KeyHourly.txt\") as f:\n",
    "    lines = f.readlines()\n",
    "\n",
    "# getting table of elemets and units\n",
    "for x in range(2, 19):\n",
    "    print(lines[x])\n"
   ]
  },
  {
   "cell_type": "markdown",
   "id": "45c56d79",
   "metadata": {},
   "source": [
    "Temperature. From the info doc, the air temperature is given in degrees celcius (°C). For an engineering study, this needs to be in the SI units Kelvin. The conversion from Celcius to Kelvin (K) is very simple, we need to add 273.15 to each value. Eg; 15°C = (273.15 + 15) K Or 288.15 K."
   ]
  },
  {
   "cell_type": "markdown",
   "id": "8893e02c",
   "metadata": {},
   "source": [
    "Pressure. From the info doc, the pressure is given in hectoPascals (hPa). This is in the correct units for engineering, the only conversion is one hectopascal is equal to 100 pascals. 1 hPa = 100 Pa. The bigger issue with the pressure value give is this is \"Sea Level Pressure\". This has its roots in the \"International Civil Aviation Organisation\" (ICAO) Standard Atmosphere. Air density and presure decrease with altitude, therefore the altitude of the recording weather station has a constant effect on the reading. To nullify this effect of recording altitude, we can use the standard atmosphere to work out what the pressure would at sea level. This way all the recorded pressures in Ireland can be compared as apples and apples, with the effects of recorded altitude removed. However for aerodynamic study, we are more intrested in Absolute Pressure. The conversion can be done using the Hypsometric equation:\n",
    "\n",
    "\n",
    "$P = P_0 \\left( 1 - \\frac{0.0065h}{T + 0.0065h} \\right)^{5.257} $\n",
    "\n",
    "$P$ = Absolute Pressure\n",
    "$P_0$ = Sea level Pressure\n",
    "$T$ = Temperature (kelvin)\n",
    "$h$ = Recorded altitude (meters)"
   ]
  },
  {
   "cell_type": "markdown",
   "id": "ddf34da2",
   "metadata": {},
   "source": [
    "Wind. The wind speed is given in Knots (kt), this will need to be convered to Meters per Second (m/s) for engineering use. In accordance with the \"The International System of Units (SI) – Conversion Factors\" (Ref 2) 1 kt = 1.852 km/h. While this is not the final unit needed, this does bring the number into SI units which can be easily manipulated. 1 hour = 3600 seconds & 1 kilometer = 1000 meters. The result is 1 kt = 0.5144 m/s"
   ]
  },
  {
   "cell_type": "markdown",
   "id": "64462faa",
   "metadata": {},
   "source": [
    "Percipitation. This is given in millimeters (mm), for the purpose of this study mm's will not need to be adjusted."
   ]
  },
  {
   "cell_type": "code",
   "execution_count": null,
   "id": "19d7f4a2",
   "metadata": {},
   "outputs": [],
   "source": []
  }
 ],
 "metadata": {
  "kernelspec": {
   "display_name": "Python 3 (ipykernel)",
   "language": "python",
   "name": "python3"
  },
  "language_info": {
   "codemirror_mode": {
    "name": "ipython",
    "version": 3
   },
   "file_extension": ".py",
   "mimetype": "text/x-python",
   "name": "python",
   "nbconvert_exporter": "python",
   "pygments_lexer": "ipython3",
   "version": "3.9.13"
  }
 },
 "nbformat": 4,
 "nbformat_minor": 5
}
