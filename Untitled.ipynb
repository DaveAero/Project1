{
 "cells": [
  {
   "cell_type": "markdown",
   "id": "31b39923",
   "metadata": {},
   "source": [
    "I have chosen to synthesise weather conditions.\n",
    "\n",
    "The goal of this project is to synthesise weather conditions, for use in future simulations related to aerodynamic perforance. This data could be used to randomise the conditions, when testing a flight controller for a drone or a hobby aicraft.\n",
    "\n",
    "The atmospheric conditions determie the level of lift and drag being generated. This means the weather conditions determine the length of runway required to take off in an aircraft or the propeller speed required on a drone to hover."
   ]
  },
  {
   "cell_type": "markdown",
   "id": "132016a0",
   "metadata": {},
   "source": [
    "The chosen variables to examine are:\n",
    "- Absolute Temperature, in Kelvin. This will be non-negative real number with two decimal places.\n",
    "- Absolute Pressure, in Pascal. This will be non-negative real number with two decimal places.\n",
    "- Wind, in meters per second and direction in degrees from north. This will be non-negative real number with two decimal places. The data will be given in a Polar coordinate system with magnitude as speed and angle being the direction from north.\n",
    "- Percipitation, in millimeters."
   ]
  },
  {
   "cell_type": "markdown",
   "id": "f2a7de43",
   "metadata": {},
   "source": [
    "For examining the relationships between the data I have obtained weather data from the Met Éireann Athenry weather station. This data set contains data on the weather conditions, recorded every hour for the duration between Feb-2010 up to Nov-2022. This data has been made publicly available by Met Éireann on the condition that the following source accreditations is given:\n",
    "\n",
    "- Copyright Met Éireann\n",
    "- Source www.met.ie\n",
    "- This data is published under a Creative Commons Attribution 4.0 International (CC BY 4.0). https://creativecommons.org/licenses/by/4.0/\n",
    "- Met Éireann does not accept any liability whatsoever for any error or omission in the data, their availability, or for any loss or damage arising from their use.\n",
    "- This material has been modified from the original"
   ]
  },
  {
   "cell_type": "markdown",
   "id": "b5dd9960",
   "metadata": {},
   "source": [
    "The Data from Met Éireann is given in a format that may be stardard for meteorological study. But this format will need to be changed to an engineering ISO standard for aerodynamic study."
   ]
  },
  {
   "cell_type": "markdown",
   "id": "45c56d79",
   "metadata": {},
   "source": [
    "Temperature. From the info doc, the air temperature is given in degrees celcius (°C). For an engineering study, this needs to be in the SI units Kelvin. The conversion from Celcius to Kelvin (K) is very simple, we need to add 273.15 to each value. Eg; 15°C = (273.15 + 15) K Or 288.15 K."
   ]
  }
 ],
 "metadata": {
  "kernelspec": {
   "display_name": "Python 3 (ipykernel)",
   "language": "python",
   "name": "python3"
  },
  "language_info": {
   "codemirror_mode": {
    "name": "ipython",
    "version": 3
   },
   "file_extension": ".py",
   "mimetype": "text/x-python",
   "name": "python",
   "nbconvert_exporter": "python",
   "pygments_lexer": "ipython3",
   "version": "3.9.13"
  }
 },
 "nbformat": 4,
 "nbformat_minor": 5
}
